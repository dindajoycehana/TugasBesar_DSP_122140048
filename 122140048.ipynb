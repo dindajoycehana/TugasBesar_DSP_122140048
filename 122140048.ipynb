{
 "cells": [
  {
   "cell_type": "markdown",
   "id": "f7413234",
   "metadata": {},
   "source": [
    "# Tugas Besar Digital Signal Processing\n",
    "\n",
    "Dinda Joycehana\n",
    "\n",
    "122140048"
   ]
  },
  {
   "cell_type": "markdown",
   "id": "e1468b54",
   "metadata": {},
   "source": [
    "#### Setup Library"
   ]
  },
  {
   "cell_type": "code",
   "execution_count": 1,
   "id": "9a5531de",
   "metadata": {},
   "outputs": [],
   "source": [
    "## Import semua dependency yang diperlukan\n",
    "import mediapipe as mp\n",
    "from mediapipe.tasks import python\n",
    "from mediapipe.tasks.python import vision\n",
    "import cv2\n",
    "import numpy as np\n",
    "import matplotlib.pyplot as plt\n",
    "import os\n",
    "import scipy.signal as signal"
   ]
  },
  {
   "cell_type": "code",
   "execution_count": 4,
   "id": "aadf97c5",
   "metadata": {},
   "outputs": [],
   "source": [
    "#Download model melalui github informatika itera\n",
    "\n",
    "## Create faceDetector Object\n",
    "## Define the models\n",
    "base_model=\"models/blaze_face_short_range.tflite\"\n",
    "base_options = python.BaseOptions(model_asset_path=base_model)\n",
    "\n",
    "## Mediapipe configuration options\n",
    "FaceDetectorOptions = vision.FaceDetectorOptions\n",
    "VisionRunningMode = vision.RunningMode\n",
    "options = FaceDetectorOptions(\n",
    "    base_options=base_options,\n",
    "    running_mode = VisionRunningMode.IMAGE,\n",
    ")\n",
    "face_detector = vision.FaceDetector.create_from_options(options)"
   ]
  }
 ],
 "metadata": {
  "kernelspec": {
   "display_name": ".venv",
   "language": "python",
   "name": "python3"
  },
  "language_info": {
   "codemirror_mode": {
    "name": "ipython",
    "version": 3
   },
   "file_extension": ".py",
   "mimetype": "text/x-python",
   "name": "python",
   "nbconvert_exporter": "python",
   "pygments_lexer": "ipython3",
   "version": "3.10.16"
  }
 },
 "nbformat": 4,
 "nbformat_minor": 5
}
